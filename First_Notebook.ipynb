{
    "cells": [
        {
            "metadata": {},
            "cell_type": "markdown",
            "source": "Bajaj Finance CSV"
        },
        {
            "metadata": {},
            "cell_type": "code",
            "source": "\nimport types\nimport pandas as pd\nfrom botocore.client import Config\nimport ibm_boto3\n\ndef __iter__(self): return 0\n\n# @hidden_cell\n# The following code accesses a file in your IBM Cloud Object Storage. It includes your credentials.\n# You might want to remove those credentials before you share the notebook.\nclient_80d4c087bdfa4976a3acafe63c5031de = ibm_boto3.client(service_name='s3',\n    ibm_api_key_id='Mvl-GCnYcrb5PPj4zK40vyJkQivijvHfCpvuXdl9fFym',\n    ibm_auth_endpoint=\"https://iam.cloud.ibm.com/oidc/token\",\n    config=Config(signature_version='oauth'),\n    endpoint_url='https://s3-api.us-geo.objectstorage.service.networklayer.com')\n\nbody = client_80d4c087bdfa4976a3acafe63c5031de.get_object(Bucket='myfirst-donotdelete-pr-p1ib0gvse7gsvd',Key='BAJFINANCE.NS.csv')['Body']\n# add missing __iter__ method, so pandas accepts body as file-like object\nif not hasattr(body, \"__iter__\"): body.__iter__ = types.MethodType( __iter__, body )\n\ndf_data_1 = pd.read_csv(body)\ndf_data_1.head()\n",
            "execution_count": 1,
            "outputs": [
                {
                    "output_type": "execute_result",
                    "execution_count": 1,
                    "data": {
                        "text/plain": "         Date         Open         High          Low        Close  \\\n0  2019-07-04  3730.000000  3749.899902  3705.149902  3732.500000   \n1  2019-07-05  3734.000000  3762.000000  3706.449951  3719.149902   \n2  2019-07-08  3724.949951  3724.949951  3375.000000  3413.300049   \n3  2019-07-09  3410.000000  3625.000000  3336.399902  3603.100098   \n4  2019-07-10  3599.949951  3599.949951  3412.000000  3429.050049   \n\n     Adj Close     Volume  \n0  3717.424805   743616.0  \n1  3704.128662   776280.0  \n2  3399.513916  3857132.0  \n3  3588.547607  5196125.0  \n4  3415.200439  2909584.0  ",
                        "text/html": "<div>\n<style scoped>\n    .dataframe tbody tr th:only-of-type {\n        vertical-align: middle;\n    }\n\n    .dataframe tbody tr th {\n        vertical-align: top;\n    }\n\n    .dataframe thead th {\n        text-align: right;\n    }\n</style>\n<table border=\"1\" class=\"dataframe\">\n  <thead>\n    <tr style=\"text-align: right;\">\n      <th></th>\n      <th>Date</th>\n      <th>Open</th>\n      <th>High</th>\n      <th>Low</th>\n      <th>Close</th>\n      <th>Adj Close</th>\n      <th>Volume</th>\n    </tr>\n  </thead>\n  <tbody>\n    <tr>\n      <th>0</th>\n      <td>2019-07-04</td>\n      <td>3730.000000</td>\n      <td>3749.899902</td>\n      <td>3705.149902</td>\n      <td>3732.500000</td>\n      <td>3717.424805</td>\n      <td>743616.0</td>\n    </tr>\n    <tr>\n      <th>1</th>\n      <td>2019-07-05</td>\n      <td>3734.000000</td>\n      <td>3762.000000</td>\n      <td>3706.449951</td>\n      <td>3719.149902</td>\n      <td>3704.128662</td>\n      <td>776280.0</td>\n    </tr>\n    <tr>\n      <th>2</th>\n      <td>2019-07-08</td>\n      <td>3724.949951</td>\n      <td>3724.949951</td>\n      <td>3375.000000</td>\n      <td>3413.300049</td>\n      <td>3399.513916</td>\n      <td>3857132.0</td>\n    </tr>\n    <tr>\n      <th>3</th>\n      <td>2019-07-09</td>\n      <td>3410.000000</td>\n      <td>3625.000000</td>\n      <td>3336.399902</td>\n      <td>3603.100098</td>\n      <td>3588.547607</td>\n      <td>5196125.0</td>\n    </tr>\n    <tr>\n      <th>4</th>\n      <td>2019-07-10</td>\n      <td>3599.949951</td>\n      <td>3599.949951</td>\n      <td>3412.000000</td>\n      <td>3429.050049</td>\n      <td>3415.200439</td>\n      <td>2909584.0</td>\n    </tr>\n  </tbody>\n</table>\n</div>"
                    },
                    "metadata": {}
                }
            ]
        },
        {
            "metadata": {},
            "cell_type": "code",
            "source": "",
            "execution_count": null,
            "outputs": []
        }
    ],
    "metadata": {
        "kernelspec": {
            "name": "python3",
            "display_name": "Python 3.6",
            "language": "python"
        },
        "language_info": {
            "name": "python",
            "version": "3.6.9",
            "mimetype": "text/x-python",
            "codemirror_mode": {
                "name": "ipython",
                "version": 3
            },
            "pygments_lexer": "ipython3",
            "nbconvert_exporter": "python",
            "file_extension": ".py"
        }
    },
    "nbformat": 4,
    "nbformat_minor": 1
}