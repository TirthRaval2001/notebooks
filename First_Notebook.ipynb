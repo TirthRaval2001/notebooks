{
    "cells": [
        {
            "cell_type": "markdown",
            "metadata": {},
            "source": "Bajaj Finance CSV"
        },
        {
            "cell_type": "code",
            "execution_count": 1,
            "metadata": {},
            "outputs": [
                {
                    "data": {
                        "text/html": "<div>\n<style scoped>\n    .dataframe tbody tr th:only-of-type {\n        vertical-align: middle;\n    }\n\n    .dataframe tbody tr th {\n        vertical-align: top;\n    }\n\n    .dataframe thead th {\n        text-align: right;\n    }\n</style>\n<table border=\"1\" class=\"dataframe\">\n  <thead>\n    <tr style=\"text-align: right;\">\n      <th></th>\n      <th>Date</th>\n      <th>Open</th>\n      <th>High</th>\n      <th>Low</th>\n      <th>Close</th>\n      <th>Adj Close</th>\n      <th>Volume</th>\n    </tr>\n  </thead>\n  <tbody>\n    <tr>\n      <th>0</th>\n      <td>2019-07-04</td>\n      <td>3730.000000</td>\n      <td>3749.899902</td>\n      <td>3705.149902</td>\n      <td>3732.500000</td>\n      <td>3717.424805</td>\n      <td>743616.0</td>\n    </tr>\n    <tr>\n      <th>1</th>\n      <td>2019-07-05</td>\n      <td>3734.000000</td>\n      <td>3762.000000</td>\n      <td>3706.449951</td>\n      <td>3719.149902</td>\n      <td>3704.128662</td>\n      <td>776280.0</td>\n    </tr>\n    <tr>\n      <th>2</th>\n      <td>2019-07-08</td>\n      <td>3724.949951</td>\n      <td>3724.949951</td>\n      <td>3375.000000</td>\n      <td>3413.300049</td>\n      <td>3399.513916</td>\n      <td>3857132.0</td>\n    </tr>\n    <tr>\n      <th>3</th>\n      <td>2019-07-09</td>\n      <td>3410.000000</td>\n      <td>3625.000000</td>\n      <td>3336.399902</td>\n      <td>3603.100098</td>\n      <td>3588.547607</td>\n      <td>5196125.0</td>\n    </tr>\n    <tr>\n      <th>4</th>\n      <td>2019-07-10</td>\n      <td>3599.949951</td>\n      <td>3599.949951</td>\n      <td>3412.000000</td>\n      <td>3429.050049</td>\n      <td>3415.200439</td>\n      <td>2909584.0</td>\n    </tr>\n  </tbody>\n</table>\n</div>",
                        "text/plain": "         Date         Open         High          Low        Close  \\\n0  2019-07-04  3730.000000  3749.899902  3705.149902  3732.500000   \n1  2019-07-05  3734.000000  3762.000000  3706.449951  3719.149902   \n2  2019-07-08  3724.949951  3724.949951  3375.000000  3413.300049   \n3  2019-07-09  3410.000000  3625.000000  3336.399902  3603.100098   \n4  2019-07-10  3599.949951  3599.949951  3412.000000  3429.050049   \n\n     Adj Close     Volume  \n0  3717.424805   743616.0  \n1  3704.128662   776280.0  \n2  3399.513916  3857132.0  \n3  3588.547607  5196125.0  \n4  3415.200439  2909584.0  "
                    },
                    "execution_count": 1,
                    "metadata": {},
                    "output_type": "execute_result"
                }
            ],
            "source": "# The code was removed by Watson Studio for sharing."
        },
        {
            "cell_type": "code",
            "execution_count": null,
            "metadata": {},
            "outputs": [],
            "source": ""
        }
    ],
    "metadata": {
        "kernelspec": {
            "display_name": "Python 3.6",
            "language": "python",
            "name": "python3"
        },
        "language_info": {
            "codemirror_mode": {
                "name": "ipython",
                "version": 3
            },
            "file_extension": ".py",
            "mimetype": "text/x-python",
            "name": "python",
            "nbconvert_exporter": "python",
            "pygments_lexer": "ipython3",
            "version": "3.6.9"
        }
    },
    "nbformat": 4,
    "nbformat_minor": 1
}